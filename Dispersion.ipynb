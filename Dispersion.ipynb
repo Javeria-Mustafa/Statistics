{
  "nbformat": 4,
  "nbformat_minor": 0,
  "metadata": {
    "colab": {
      "provenance": []
    },
    "kernelspec": {
      "name": "python3",
      "display_name": "Python 3"
    },
    "language_info": {
      "name": "python"
    }
  },
  "cells": [
    {
      "cell_type": "code",
      "source": [
        "from google.colab import drive\n",
        "drive.mount('/content/drive')"
      ],
      "metadata": {
        "colab": {
          "base_uri": "https://localhost:8080/"
        },
        "id": "oZfSSjkbi2RB",
        "outputId": "29b172f2-352a-42da-912d-aa2ff302fd79"
      },
      "execution_count": null,
      "outputs": [
        {
          "output_type": "stream",
          "name": "stdout",
          "text": [
            "Drive already mounted at /content/drive; to attempt to forcibly remount, call drive.mount(\"/content/drive\", force_remount=True).\n"
          ]
        }
      ]
    },
    {
      "cell_type": "code",
      "execution_count": null,
      "metadata": {
        "colab": {
          "base_uri": "https://localhost:8080/"
        },
        "id": "VURqbsLWizIE",
        "outputId": "18a990b5-6124-4dcf-e983-7a17321702d4"
      },
      "outputs": [
        {
          "output_type": "stream",
          "name": "stdout",
          "text": [
            "      loc  v(g)  ev(g)  iv(g)      n        v     l      d      i          e  \\\n",
            "0     1.1   1.4    1.4    1.4    1.3     1.30  1.30   1.30   1.30       1.30   \n",
            "1     1.0   1.0    1.0    1.0    1.0     1.00  1.00   1.00   1.00       1.00   \n",
            "2    24.0   5.0    1.0    3.0   63.0   309.13  0.11   9.50  32.54    2936.77   \n",
            "3    20.0   4.0    4.0    2.0   47.0   215.49  0.06  16.00  13.47    3447.89   \n",
            "4    24.0   6.0    6.0    2.0   72.0   346.13  0.06  17.33  19.97    5999.58   \n",
            "..    ...   ...    ...    ...    ...      ...   ...    ...    ...        ...   \n",
            "493  47.0   3.0    1.0    3.0  256.0  1563.78  0.04  28.00  55.85   43785.90   \n",
            "494  24.0   4.0    3.0    3.0  107.0   587.63  0.05  19.13  30.72   11241.58   \n",
            "495  82.0  11.0    3.0   10.0  475.0  3155.83  0.02  44.71  70.59  141084.24   \n",
            "496  10.0   2.0    1.0    1.0   32.0   150.41  0.15   6.50  23.14     977.69   \n",
            "497  28.0   6.0    5.0    5.0  104.0   564.33  0.06  16.09  35.08    9078.38   \n",
            "\n",
            "     ...  lOCode  lOComment  lOBlank  locCodeAndComment  uniq_Op  uniq_Opnd  \\\n",
            "0    ...       2          2        2                  2      1.2        1.2   \n",
            "1    ...       1          1        1                  1      1.0        1.0   \n",
            "2    ...       1          0        6                  0     15.0       15.0   \n",
            "3    ...       0          0        3                  0     16.0        8.0   \n",
            "4    ...       0          0        3                  0     16.0       12.0   \n",
            "..   ...     ...        ...      ...                ...      ...        ...   \n",
            "493  ...       2         13        2                  0     23.0       46.0   \n",
            "494  ...       1          7        4                  0     22.0       23.0   \n",
            "495  ...       9         59       35                  0     32.0       68.0   \n",
            "496  ...       1         12        4                  0     13.0       13.0   \n",
            "497  ...       2          7        0                  0     20.0       23.0   \n",
            "\n",
            "     total_Op  total_Opnd  branchCount  defects  \n",
            "0         1.2         1.2          1.4        0  \n",
            "1         1.0         1.0          1.0        1  \n",
            "2        44.0        19.0          9.0        0  \n",
            "3        31.0        16.0          7.0        0  \n",
            "4        46.0        26.0         11.0        0  \n",
            "..        ...         ...          ...      ...  \n",
            "493     144.0       112.0          5.0        1  \n",
            "494      67.0        40.0          7.0        1  \n",
            "495     285.0       190.0         21.0        1  \n",
            "496      19.0        13.0          3.0        1  \n",
            "497      67.0        37.0         11.0        1  \n",
            "\n",
            "[498 rows x 22 columns]\n"
          ]
        }
      ],
      "source": [
        "import numpy as np\n",
        "import pandas as pd\n",
        "df=pd.read_csv('/content/drive/MyDrive/datasets/cm1_csv.csv')\n",
        "print(df)"
      ]
    },
    {
      "cell_type": "code",
      "source": [
        "#Fetch the column(lines of code)\n",
        "print(df['loc'])"
      ],
      "metadata": {
        "colab": {
          "base_uri": "https://localhost:8080/"
        },
        "id": "KvYvl9_pup8S",
        "outputId": "ac5b812c-6da8-4147-b85e-9d8f310e8eb5"
      },
      "execution_count": null,
      "outputs": [
        {
          "output_type": "stream",
          "name": "stdout",
          "text": [
            "0       1.1\n",
            "1       1.0\n",
            "2      24.0\n",
            "3      20.0\n",
            "4      24.0\n",
            "       ... \n",
            "493    47.0\n",
            "494    24.0\n",
            "495    82.0\n",
            "496    10.0\n",
            "497    28.0\n",
            "Name: loc, Length: 498, dtype: float64\n"
          ]
        }
      ]
    },
    {
      "cell_type": "code",
      "source": [
        "print(df['loc'].head())"
      ],
      "metadata": {
        "colab": {
          "base_uri": "https://localhost:8080/"
        },
        "id": "rCCEgNUwoN2Z",
        "outputId": "9c67a3f4-f772-44d0-f01e-92a09609c2dc"
      },
      "execution_count": null,
      "outputs": [
        {
          "output_type": "stream",
          "name": "stdout",
          "text": [
            "0     1.1\n",
            "1     1.0\n",
            "2    24.0\n",
            "3    20.0\n",
            "4    24.0\n",
            "Name: loc, dtype: float64\n"
          ]
        }
      ]
    },
    {
      "cell_type": "code",
      "source": [
        "print(df['loc'].tail)"
      ],
      "metadata": {
        "colab": {
          "base_uri": "https://localhost:8080/"
        },
        "id": "e_VvRcweoUp_",
        "outputId": "5ab1acf9-944f-4f24-9b37-cddb5a1dd9c6"
      },
      "execution_count": null,
      "outputs": [
        {
          "output_type": "stream",
          "name": "stdout",
          "text": [
            "<bound method NDFrame.tail of 0       1.1\n",
            "1       1.0\n",
            "2      24.0\n",
            "3      20.0\n",
            "4      24.0\n",
            "       ... \n",
            "493    47.0\n",
            "494    24.0\n",
            "495    82.0\n",
            "496    10.0\n",
            "497    28.0\n",
            "Name: loc, Length: 498, dtype: float64>\n"
          ]
        }
      ]
    },
    {
      "cell_type": "code",
      "source": [
        "import matplotlib.pyplot as plt\n",
        "x= df['loc'].index\n",
        "y=df['loc']\n",
        "plt.scatter(x,y,s=0.2)\n",
        "plt.title('Visulizing the  LOC Values')\n",
        "plt.xlabel('Index')\n",
        "plt.ylabel('Lines of code')\n",
        "plt.show()"
      ],
      "metadata": {
        "colab": {
          "base_uri": "https://localhost:8080/",
          "height": 472
        },
        "id": "AK6T3pveyO8v",
        "outputId": "93d58066-dec4-4f37-8fd7-9e6d90940814"
      },
      "execution_count": null,
      "outputs": [
        {
          "output_type": "display_data",
          "data": {
            "text/plain": [
              "<Figure size 640x480 with 1 Axes>"
            ],
            "image/png": "[encoded data removed]"
          },
          "metadata": {}
        }
      ]
    },
    {
      "cell_type": "code",
      "source": [
        "print(df['loc'].describe())"
      ],
      "metadata": {
        "colab": {
          "base_uri": "https://localhost:8080/"
        },
        "id": "OxOG2Mr2xW7B",
        "outputId": "c93bb735-3ac3-4fc3-ea6e-69b9a67df39c"
      },
      "execution_count": null,
      "outputs": [
        {
          "output_type": "stream",
          "name": "stdout",
          "text": [
            "count    498.000000\n",
            "mean      29.644779\n",
            "std       42.753572\n",
            "min        1.000000\n",
            "25%        8.000000\n",
            "50%       17.000000\n",
            "75%       31.000000\n",
            "max      423.000000\n",
            "Name: loc, dtype: float64\n"
          ]
        }
      ]
    },
    {
      "cell_type": "code",
      "source": [
        "#Cross checking the central tendency, despersion\n",
        "mean=sum(df['loc']/len(df['loc']))\n",
        "print(mean)"
      ],
      "metadata": {
        "colab": {
          "base_uri": "https://localhost:8080/"
        },
        "id": "iRlIuJGUxlMm",
        "outputId": "309c1e6a-02f7-4028-b0f2-25871b6d6d5c"
      },
      "execution_count": null,
      "outputs": [
        {
          "output_type": "stream",
          "name": "stdout",
          "text": [
            "29.644779116465834\n"
          ]
        }
      ]
    },
    {
      "cell_type": "code",
      "source": [
        "#Visualizing the mean\n",
        "plt.scatter(x,y,s=0.4)\n",
        "plt.title('Visulizing the  LOC Values')\n",
        "plt.xlabel('Index')\n",
        "plt.ylabel('Lines of code')\n",
        "plt.axhline(mean,color='red',linestyle='--',label='mean')\n",
        "plt.legend()\n",
        "plt.show()"
      ],
      "metadata": {
        "colab": {
          "base_uri": "https://localhost:8080/",
          "height": 472
        },
        "id": "1iYxCocr1H0Z",
        "outputId": "1dbe7847-af41-4cd5-9d1d-638918199be4"
      },
      "execution_count": null,
      "outputs": [
        {
          "output_type": "display_data",
          "data": {
            "text/plain": [
              "<Figure size 640x480 with 1 Axes>"
            ],
            "image/png": "[encoded data removed]"
          },
          "metadata": {}
        }
      ]
    },
    {
      "cell_type": "code",
      "source": [
        "#Finding variance\n",
        "var= np.var(df['loc'])\n",
        "print(var)\n"
      ],
      "metadata": {
        "colab": {
          "base_uri": "https://localhost:8080/"
        },
        "id": "Ttwen_eN-xuI",
        "outputId": "9736c50a-d979-4af7-ce72-d5fb879e765a"
      },
      "execution_count": null,
      "outputs": [
        {
          "output_type": "stream",
          "name": "stdout",
          "text": [
            "1824.1975329833392\n"
          ]
        }
      ]
    },
    {
      "cell_type": "code",
      "source": [
        "#Finding standard deviation\n",
        "std_dev= np.sqrt(var)\n",
        "print(std_dev)"
      ],
      "metadata": {
        "colab": {
          "base_uri": "https://localhost:8080/"
        },
        "id": "MnEl5JGBBUbk",
        "outputId": "63bf6836-7ae2-43bd-c622-f2cb703bf6ae"
      },
      "execution_count": null,
      "outputs": [
        {
          "output_type": "stream",
          "name": "stdout",
          "text": [
            "42.71062552788637\n"
          ]
        }
      ]
    },
    {
      "cell_type": "code",
      "source": [
        "#Finding the cofficant of variance\n",
        "cv=(std_dev/mean)*100\n",
        "print(cv)"
      ],
      "metadata": {
        "colab": {
          "base_uri": "https://localhost:8080/"
        },
        "id": "5XZjNmreBqWk",
        "outputId": "9e503c89-72c8-4dc1-efc8-fbdd4608c43a"
      },
      "execution_count": null,
      "outputs": [
        {
          "output_type": "stream",
          "name": "stdout",
          "text": [
            "144.07469645865322\n"
          ]
        }
      ]
    },
    {
      "cell_type": "markdown",
      "source": [
        "##Checking for Outliers\n",
        "###Outliers can be removed in many ways i-e Z- score scaling ,Using Quratiles etc. Here we will use qaurtiles."
      ],
      "metadata": {
        "id": "pHW-QfqO9Ryq"
      }
    },
    {
      "cell_type": "code",
      "source": [
        "Q1 = df['loc'].quantile(0.25)\n",
        "Q3 = df['loc'].quantile(0.75)\n",
        "IQR = Q3 - Q1\n",
        "Inter_QRange=Q3-Q1\n",
        "print(Q1)\n",
        "print(Q3)\n",
        "print(Inter_QRange)"
      ],
      "metadata": {
        "colab": {
          "base_uri": "https://localhost:8080/"
        },
        "id": "Ah77xCDJ9Nw-",
        "outputId": "4970a10c-168a-44e8-964f-c27afc99f1d7"
      },
      "execution_count": null,
      "outputs": [
        {
          "output_type": "stream",
          "name": "stdout",
          "text": [
            "8.0\n",
            "31.0\n",
            "23.0\n"
          ]
        }
      ]
    },
    {
      "cell_type": "code",
      "source": [
        "lower_bound= Q1-1.5* Inter_QRange\n",
        "print(lower_bound)\n",
        "upper_bound= Q3+1.5* Inter_QRange\n",
        "print(upper_bound)"
      ],
      "metadata": {
        "colab": {
          "base_uri": "https://localhost:8080/"
        },
        "id": "vT1G1T8d-sZ_",
        "outputId": "172b0e6f-0d89-4a68-c92f-7c2b471f3fa8"
      },
      "execution_count": null,
      "outputs": [
        {
          "output_type": "stream",
          "name": "stdout",
          "text": [
            "-26.5\n",
            "65.5\n"
          ]
        }
      ]
    },
    {
      "cell_type": "code",
      "source": [
        "outliers = df[(df['loc'] < lower_bound) | (df['loc'] > upper_bound)]['loc']\n",
        "print(\"These values are outliers:\")\n",
        "print(outliers)\n",
        "print(\"Number of outliers:\", outliers.count())"
      ],
      "metadata": {
        "colab": {
          "base_uri": "https://localhost:8080/"
        },
        "id": "kTcnZl3l_29f",
        "outputId": "4ba121ea-7044-4b55-a28a-58ebe1ac246e"
      },
      "execution_count": null,
      "outputs": [
        {
          "output_type": "stream",
          "name": "stdout",
          "text": [
            "These values are outliers:\n",
            "29     177.0\n",
            "31     361.0\n",
            "32      76.0\n",
            "50     127.0\n",
            "102    130.0\n",
            "112     93.0\n",
            "113    128.0\n",
            "118    154.0\n",
            "119    125.0\n",
            "121    127.0\n",
            "126    160.0\n",
            "139    149.0\n",
            "157     69.0\n",
            "158    138.0\n",
            "161     72.0\n",
            "188     92.0\n",
            "240     98.0\n",
            "241    172.0\n",
            "253     88.0\n",
            "273    101.0\n",
            "276    106.0\n",
            "300    176.0\n",
            "302     66.0\n",
            "308    104.0\n",
            "309     68.0\n",
            "333     70.0\n",
            "345     76.0\n",
            "354    423.0\n",
            "358     85.0\n",
            "361    165.0\n",
            "372     75.0\n",
            "452     71.0\n",
            "455     92.0\n",
            "457    143.0\n",
            "458    196.0\n",
            "461    133.0\n",
            "463     91.0\n",
            "465    149.0\n",
            "466    411.0\n",
            "467    121.0\n",
            "468    130.0\n",
            "469     79.0\n",
            "475     71.0\n",
            "480     89.0\n",
            "482     74.0\n",
            "484    107.0\n",
            "492     91.0\n",
            "495     82.0\n",
            "Name: loc, dtype: float64\n",
            "Number of outliers: 48\n"
          ]
        }
      ]
    },
    {
      "cell_type": "code",
      "source": [
        "# Plotting the actual data points and outliers\n",
        "plt.scatter(df['loc'].index, df['loc'] , color='blue', label='Data points' , s=0.4)\n",
        "plt.scatter(outliers.index, outliers, color='red', label='Outliers',s=0.4)\n",
        "\n",
        "plt.title('Outliers in LOC Feature')\n",
        "plt.xlabel('Index')\n",
        "plt.ylabel('Lines of Code')\n",
        "plt.legend()\n",
        "plt.show()"
      ],
      "metadata": {
        "colab": {
          "base_uri": "https://localhost:8080/",
          "height": 472
        },
        "id": "JPQ87mmJ3ACf",
        "outputId": "e37c7fd0-eaf8-4443-cc8f-b9c622e13dcc"
      },
      "execution_count": null,
      "outputs": [
        {
          "output_type": "display_data",
          "data": {
            "text/plain": [
              "<Figure size 640x480 with 1 Axes>"
            ],
            "image/png": "[encoded data removed]"
          },
          "metadata": {}
        }
      ]
    },
    {
      "cell_type": "markdown",
      "source": [
        "##Deleting the Outliers"
      ],
      "metadata": {
        "id": "pS9bGuqGnj47"
      }
    },
    {
      "cell_type": "code",
      "source": [
        "# Deleting the outliers\n",
        "df = df[(df['loc'] >= lower_bound) & (df['loc'] <= upper_bound)]\n"
      ],
      "metadata": {
        "id": "1eZeVQPZi1ht"
      },
      "execution_count": null,
      "outputs": []
    },
    {
      "cell_type": "code",
      "source": [
        "# Calculating mean after removing outliers\n",
        "mean_without_outliers = df['loc'].mean()\n",
        "\n",
        "print(\"Mean without outliers:\", mean_without_outliers)\n",
        "\n"
      ],
      "metadata": {
        "colab": {
          "base_uri": "https://localhost:8080/"
        },
        "id": "g4x1-dxhkmh9",
        "outputId": "e74fce2e-e865-41a4-ab2e-33657d66f5a3"
      },
      "execution_count": null,
      "outputs": [
        {
          "output_type": "stream",
          "name": "stdout",
          "text": [
            "Mean without outliers: 19.071333333333335\n"
          ]
        }
      ]
    }
  ]
}