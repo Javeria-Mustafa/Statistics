{
  "nbformat": 4,
  "nbformat_minor": 0,
  "metadata": {
    "colab": {
      "provenance": []
    },
    "kernelspec": {
      "name": "python3",
      "display_name": "Python 3"
    },
    "language_info": {
      "name": "python"
    }
  },
  "cells": [
    {
      "cell_type": "code",
      "execution_count": null,
      "metadata": {
        "id": "PNzm1YmqEEK3"
      },
      "outputs": [],
      "source": [
        "import matplotlib\n",
        "import matplotlib.pyplot as plt\n",
        "%matplotlib inline\n",
        "\n",
        "import numpy as np"
      ]
    },
    {
      "cell_type": "code",
      "source": [
        "import seaborn as sns\n",
        "sns.set(color_codes=True)\n",
        "sns.set_style(\"white\")     # See more styling options here: https://seaborn.pydata.org/tutorial/aesthetics.html"
      ],
      "metadata": {
        "id": "ec1G6olkfPs0"
      },
      "execution_count": null,
      "outputs": []
    },
    {
      "cell_type": "code",
      "source": [
        "np.random.uniform(low=0.0, high=1.0)"
      ],
      "metadata": {
        "colab": {
          "base_uri": "https://localhost:8080/"
        },
        "id": "sVrDzlcjfUCc",
        "outputId": "94113104-9490-4abd-a396-723ffb7f3666"
      },
      "execution_count": null,
      "outputs": [
        {
          "output_type": "execute_result",
          "data": {
            "text/plain": [
              "0.8321780716095976"
            ]
          },
          "metadata": {},
          "execution_count": 3
        }
      ]
    },
    {
      "cell_type": "code",
      "source": [
        "np.random.uniform(low=0.0, high=1.0, size = 10)\n",
        "# All values equally likely. Sort of like     [  0.0   0.2   0.4    0.6    0.8   1.0 ]"
      ],
      "metadata": {
        "colab": {
          "base_uri": "https://localhost:8080/"
        },
        "id": "bAEDBR_OfT_5",
        "outputId": "5eff2f0f-0cc7-44c2-8f8c-297794656a79"
      },
      "execution_count": null,
      "outputs": [
        {
          "output_type": "execute_result",
          "data": {
            "text/plain": [
              "array([0.49172588, 0.5302512 , 0.38843562, 0.25685591, 0.22709175,\n",
              "       0.03368735, 0.61081865, 0.72672691, 0.65141543, 0.33268238])"
            ]
          },
          "metadata": {},
          "execution_count": 4
        }
      ]
    },
    {
      "cell_type": "code",
      "source": [
        "num_samples = 10000   # get rid of 'magic numbers'"
      ],
      "metadata": {
        "id": "doBXSK1efT8A"
      },
      "execution_count": null,
      "outputs": []
    },
    {
      "cell_type": "code",
      "source": [
        "uniform_vals = np.random.uniform(low=0.0, high=10.0, size = num_samples)"
      ],
      "metadata": {
        "id": "IMZa86xofT4o"
      },
      "execution_count": null,
      "outputs": []
    },
    {
      "cell_type": "code",
      "source": [
        "sns.distplot(uniform_vals, bins=20, kde=False)\n",
        "plt.ylabel('Frequency')\n",
        "plt.xlabel('Value');\n",
        "plt.title(\"Unform Values\")\n",
        "sns.despine(offset=10, trim=True);  # move axes away\n",
        "plt.show()"
      ],
      "metadata": {
        "colab": {
          "base_uri": "https://localhost:8080/",
          "height": 697
        },
        "id": "CXuC7PV-fTsY",
        "outputId": "d5baefa1-214a-4ced-ee83-b57f3990b0cc"
      },
      "execution_count": null,
      "outputs": [
        {
          "output_type": "stream",
          "name": "stderr",
          "text": [
            "<ipython-input-7-584a1d5b1d7e>:1: UserWarning: \n",
            "\n",
            "`distplot` is a deprecated function and will be removed in seaborn v0.14.0.\n",
            "\n",
            "Please adapt your code to use either `displot` (a figure-level function with\n",
            "similar flexibility) or `histplot` (an axes-level function for histograms).\n",
            "\n",
            "For a guide to updating your code to use the new functions, please see\n",
            "https://gist.github.com/mwaskom/de44147ed2974457ad6372750bbe5751\n",
            "\n",
            "  sns.distplot(uniform_vals, bins=20, kde=False)\n"
          ]
        },
        {
          "output_type": "display_data",
          "data": {
            "text/plain": [
              "<Figure size 640x480 with 1 Axes>"
            ],
            "image/png": "[encoded data removed]"
          },
          "metadata": {}
        }
      ]
    },
    {
      "cell_type": "code",
      "source": [
        "normal_vals = np.random.normal(loc=5.0, scale=10.0, size = num_samples)\n",
        "# More values closer to `loc`    ... Sorf of like [ 1 5 5 5 5 7 ]"
      ],
      "metadata": {
        "id": "S_tpDnoLfTir"
      },
      "execution_count": null,
      "outputs": []
    },
    {
      "cell_type": "code",
      "source": [
        "sns.distplot(normal_vals, bins=20, kde=False)\n",
        "plt.ylabel('Frequency')\n",
        "plt.xlabel('Value');\n",
        "plt.title(\"Normal Values\")\n",
        "sns.despine(offset=10, trim=True);  # move axes away\n",
        "plt.show()"
      ],
      "metadata": {
        "colab": {
          "base_uri": "https://localhost:8080/",
          "height": 697
        },
        "id": "Bgl2wH7Tfs_S",
        "outputId": "64f01c09-f78c-4b84-ccfb-5635986808aa"
      },
      "execution_count": null,
      "outputs": [
        {
          "output_type": "stream",
          "name": "stderr",
          "text": [
            "<ipython-input-9-e4873f721e95>:1: UserWarning: \n",
            "\n",
            "`distplot` is a deprecated function and will be removed in seaborn v0.14.0.\n",
            "\n",
            "Please adapt your code to use either `displot` (a figure-level function with\n",
            "similar flexibility) or `histplot` (an axes-level function for histograms).\n",
            "\n",
            "For a guide to updating your code to use the new functions, please see\n",
            "https://gist.github.com/mwaskom/de44147ed2974457ad6372750bbe5751\n",
            "\n",
            "  sns.distplot(normal_vals, bins=20, kde=False)\n"
          ]
        },
        {
          "output_type": "display_data",
          "data": {
            "text/plain": [
              "<Figure size 640x480 with 1 Axes>"
            ],
            "image/png": "[encoded data removed]"
          },
          "metadata": {}
        }
      ]
    },
    {
      "cell_type": "code",
      "source": [
        "print(\"Uniform vals mean:\", np.mean(uniform_vals))\n",
        "print(\"Normal vals mean: \", np.mean(normal_vals))"
      ],
      "metadata": {
        "colab": {
          "base_uri": "https://localhost:8080/"
        },
        "id": "sQrl_Qs1fs7Y",
        "outputId": "08d94bd0-0869-435c-b39a-1e63d7ac9804"
      },
      "execution_count": null,
      "outputs": [
        {
          "output_type": "stream",
          "name": "stdout",
          "text": [
            "Uniform vals mean: 5.035935459566141\n",
            "Normal vals mean:  5.308262852120866\n"
          ]
        }
      ]
    },
    {
      "cell_type": "code",
      "source": [
        "print(\"Uniform vals variance:\", np.var(uniform_vals))\n",
        "print(\"Normal vals variance: \", np.var(normal_vals))"
      ],
      "metadata": {
        "colab": {
          "base_uri": "https://localhost:8080/"
        },
        "id": "T9E-BTYVfs4X",
        "outputId": "458ad824-869b-491c-ec41-4e4023346356"
      },
      "execution_count": null,
      "outputs": [
        {
          "output_type": "stream",
          "name": "stdout",
          "text": [
            "Uniform vals variance: 8.346643908380136\n",
            "Normal vals variance:  99.84927175402055\n"
          ]
        }
      ]
    },
    {
      "cell_type": "code",
      "source": [
        "print(\"Uniform vals sd:\", np.std(uniform_vals))\n",
        "print(\"Normal vals sd: \", np.std(normal_vals))"
      ],
      "metadata": {
        "colab": {
          "base_uri": "https://localhost:8080/"
        },
        "id": "mH1br4HZfs1p",
        "outputId": "7cdf737d-f053-4366-828f-679f68f8125d"
      },
      "execution_count": null,
      "outputs": [
        {
          "output_type": "stream",
          "name": "stdout",
          "text": [
            "Uniform vals sd: 2.889055885298887\n",
            "Normal vals sd:  9.992460745683244\n"
          ]
        }
      ]
    },
    {
      "cell_type": "code",
      "source": [
        "normal_vals = np.random.normal(loc=5.0, scale=10.0, size = num_samples)\n",
        "\n",
        "nv_mean = np.mean(normal_vals)\n",
        "nv_sd = np.std(normal_vals)"
      ],
      "metadata": {
        "id": "A2mkzuZMfszt"
      },
      "execution_count": null,
      "outputs": []
    },
    {
      "cell_type": "code",
      "source": [
        "sns.distplot(normal_vals, bins=20, kde=False)\n",
        "#plt.xlim(-60, 60)\n",
        "\n",
        "plt.ylabel('Frequency')\n",
        "plt.xlabel('Value');\n",
        "plt.title(\"Normal Values\")\n",
        "sns.despine(offset=10, trim=True);  # move axes away\n",
        "\n",
        "# plot the SD line\n",
        "x_c, y_c = ([nv_mean, nv_mean], [0, 1500])\n",
        "plt.plot(x_c, y_c, color='green', linewidth=2)\n",
        "\n",
        "x_c, y_c = ([nv_mean + nv_sd, nv_mean + nv_sd], [0, 1500])\n",
        "plt.plot(x_c, y_c, color='red', linewidth=2)\n",
        "\n",
        "\n",
        "x_c, y_c = ([nv_mean - nv_sd, nv_mean - nv_sd], [0, 1500])\n",
        "plt.plot(x_c, y_c, color='red', linewidth=2)\n",
        "plt.legend()\n",
        "\n",
        "plt.show()"
      ],
      "metadata": {
        "colab": {
          "base_uri": "https://localhost:8080/",
          "height": 735
        },
        "id": "vn2yfUxHfsxt",
        "outputId": "49fb5d89-6c74-4c4f-d0cf-0296d9b47875"
      },
      "execution_count": null,
      "outputs": [
        {
          "output_type": "stream",
          "name": "stderr",
          "text": [
            "<ipython-input-17-42de69a39dbd>:1: UserWarning: \n",
            "\n",
            "`distplot` is a deprecated function and will be removed in seaborn v0.14.0.\n",
            "\n",
            "Please adapt your code to use either `displot` (a figure-level function with\n",
            "similar flexibility) or `histplot` (an axes-level function for histograms).\n",
            "\n",
            "For a guide to updating your code to use the new functions, please see\n",
            "https://gist.github.com/mwaskom/de44147ed2974457ad6372750bbe5751\n",
            "\n",
            "  sns.distplot(normal_vals, bins=20, kde=False)\n",
            "WARNING:matplotlib.legend:No artists with labels found to put in legend.  Note that artists whose label start with an underscore are ignored when legend() is called with no argument.\n"
          ]
        },
        {
          "output_type": "display_data",
          "data": {
            "text/plain": [
              "<Figure size 640x480 with 1 Axes>"
            ],
            "image/png": "[encoded data removed]"
          },
          "metadata": {}
        }
      ]
    },
    {
      "cell_type": "code",
      "source": [
        "normal_vals_2 = np.random.normal(loc=5.0, scale=15.0, size = num_samples)\n",
        "nv_mean_2 = np.mean(normal_vals_2)\n",
        "nv_sd_2 = np.std(normal_vals_2)"
      ],
      "metadata": {
        "id": "y1yH_dtMfsu_"
      },
      "execution_count": null,
      "outputs": []
    },
    {
      "cell_type": "code",
      "source": [
        "sns.distplot(normal_vals_2, bins)"
      ],
      "metadata": {
        "id": "P02zfDGafsr3"
      },
      "execution_count": null,
      "outputs": []
    },
    {
      "cell_type": "code",
      "source": [],
      "metadata": {
        "id": "xCc8FwLxfsop"
      },
      "execution_count": null,
      "outputs": []
    }
  ]
}